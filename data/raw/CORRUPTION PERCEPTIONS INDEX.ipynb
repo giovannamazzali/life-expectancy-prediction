{
 "cells": [
  {
   "cell_type": "code",
   "execution_count": 2,
   "id": "60f4cb6a",
   "metadata": {},
   "outputs": [
    {
     "name": "stdout",
     "output_type": "stream",
     "text": [
      "    Jurisdiction 1998 1999 2000 2001 2002 2003 2004 2005 2006 2007 2008 2009  \\\n",
      "0    Afghanistan    -    -    -    -    -    -    -  2.5    -  1.8  1.5  1.3   \n",
      "1        Albania    -  2.3    -    -  2.5  2.5  2.5  2.4  2.6  2.9  3.4  3.2   \n",
      "2        Algeria    -    -    -    -    -  2.6  2.7  2.8  3.1    3  3.2  2.8   \n",
      "3         Angola    -    -  1.7    -  1.7  1.8    2    2  2.2  2.2  1.9  1.9   \n",
      "4      Argentina    3    3  3.5  3.5  2.8  2.5  2.5  2.8  2.9  2.9  2.9  2.9   \n",
      "..           ...  ...  ...  ...  ...  ...  ...  ...  ...  ...  ...  ...  ...   \n",
      "222     Viet Nam    -    -    -    -    -    -    -    -  2.6  2.6  2.7    -   \n",
      "223        Yemen    -    -    -    -    -  2.6  2.4  2.7  2.6  2.5  2.3  2.1   \n",
      "224   Yugoslavia    3    2  1.3    -    -    -    -    -    -    -    -    -   \n",
      "225       Zambia  3.5  3.5  3.4  2.6  2.6  2.5  2.6  2.6  2.6  2.6  2.8    3   \n",
      "226     Zimbabwe  4.2  4.1    3  2.9  2.7  2.3  2.3  2.6  2.4  2.1  1.8  2.2   \n",
      "\n",
      "    2010  2011 2012 2013 2014 2015  \n",
      "0    1.4  1.52    8    8   12   11  \n",
      "1    3.3  3.05   33   31   33   36  \n",
      "2    2.9   2.9   34   36   36   36  \n",
      "3    1.9  2.01   22   23   19   15  \n",
      "4    2.9     3   35   34   34   32  \n",
      "..   ...   ...  ...  ...  ...  ...  \n",
      "222    -     -    -    -    -    -  \n",
      "223  2.2  2.08   23   18   19   18  \n",
      "224    -     -    -    -    -    -  \n",
      "225    3   3.2   37   38   38   38  \n",
      "226  2.4  2.23   20   21   21   21  \n",
      "\n",
      "[227 rows x 19 columns]\n",
      "    Jurisdiction 1998 1999 2000 2001 2002 2003 2004 2005 2006 2007 2008 2009  \\\n",
      "0    Afghanistan    -    -    -    -    -    -    -  2.5    -  1.8  1.5  1.3   \n",
      "1        Albania    -  2.3    -    -  2.5  2.5  2.5  2.4  2.6  2.9  3.4  3.2   \n",
      "2        Algeria    -    -    -    -    -  2.6  2.7  2.8  3.1    3  3.2  2.8   \n",
      "3         Angola    -    -  1.7    -  1.7  1.8    2    2  2.2  2.2  1.9  1.9   \n",
      "4      Argentina    3    3  3.5  3.5  2.8  2.5  2.5  2.8  2.9  2.9  2.9  2.9   \n",
      "..           ...  ...  ...  ...  ...  ...  ...  ...  ...  ...  ...  ...  ...   \n",
      "222     Viet Nam    -    -    -    -    -    -    -    -  2.6  2.6  2.7    -   \n",
      "223        Yemen    -    -    -    -    -  2.6  2.4  2.7  2.6  2.5  2.3  2.1   \n",
      "224   Yugoslavia    3    2  1.3    -    -    -    -    -    -    -    -    -   \n",
      "225       Zambia  3.5  3.5  3.4  2.6  2.6  2.5  2.6  2.6  2.6  2.6  2.8    3   \n",
      "226     Zimbabwe  4.2  4.1    3  2.9  2.7  2.3  2.3  2.6  2.4  2.1  1.8  2.2   \n",
      "\n",
      "    2010  2011 2012 2013 2014 2015  \n",
      "0    1.4  1.52    8    8   12   11  \n",
      "1    3.3  3.05   33   31   33   36  \n",
      "2    2.9   2.9   34   36   36   36  \n",
      "3    1.9  2.01   22   23   19   15  \n",
      "4    2.9     3   35   34   34   32  \n",
      "..   ...   ...  ...  ...  ...  ...  \n",
      "222    -     -    -    -    -    -  \n",
      "223  2.2  2.08   23   18   19   18  \n",
      "224    -     -    -    -    -    -  \n",
      "225    3   3.2   37   38   38   38  \n",
      "226  2.4  2.23   20   21   21   21  \n",
      "\n",
      "[227 rows x 19 columns]\n"
     ]
    }
   ],
   "source": [
    "import datapackage\n",
    "import pandas as pd\n",
    "\n",
    "data_url = 'https://datahub.io/core/corruption-perceptions-index/datapackage.json'\n",
    "\n",
    "# to load Data Package into storage\n",
    "package = datapackage.Package(data_url)\n",
    "\n",
    "# to load only tabular data\n",
    "resources = package.resources\n",
    "for resource in resources:\n",
    "    if resource.tabular:\n",
    "        data = pd.read_csv(resource.descriptor['path'])\n",
    "        print (data)"
   ]
  }
 ],
 "metadata": {
  "kernelspec": {
   "display_name": "Python 3 (ipykernel)",
   "language": "python",
   "name": "python3"
  },
  "language_info": {
   "codemirror_mode": {
    "name": "ipython",
    "version": 3
   },
   "file_extension": ".py",
   "mimetype": "text/x-python",
   "name": "python",
   "nbconvert_exporter": "python",
   "pygments_lexer": "ipython3",
   "version": "3.9.7"
  }
 },
 "nbformat": 4,
 "nbformat_minor": 5
}
